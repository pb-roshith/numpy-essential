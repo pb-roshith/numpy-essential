{
  "nbformat": 4,
  "nbformat_minor": 0,
  "metadata": {
    "colab": {
      "provenance": [],
      "authorship_tag": "ABX9TyNqUK8MRsd9HWmCUyQheVbZ",
      "include_colab_link": true
    },
    "kernelspec": {
      "name": "python3",
      "display_name": "Python 3"
    },
    "language_info": {
      "name": "python"
    }
  },
  "cells": [
    {
      "cell_type": "markdown",
      "metadata": {
        "id": "view-in-github",
        "colab_type": "text"
      },
      "source": [
        "<a href=\"https://colab.research.google.com/github/pb-roshith/numpy-essential/blob/main/numpy.ipynb\" target=\"_parent\"><img src=\"https://colab.research.google.com/assets/colab-badge.svg\" alt=\"Open In Colab\"/></a>"
      ]
    },
    {
      "cell_type": "code",
      "execution_count": 1,
      "metadata": {
        "id": "wB7X2ItKUGJZ"
      },
      "outputs": [],
      "source": [
        "import numpy as np"
      ]
    },
    {
      "cell_type": "code",
      "source": [
        "a = np.array([10,20,30])"
      ],
      "metadata": {
        "id": "vTT0SrhTXFj6"
      },
      "execution_count": 2,
      "outputs": []
    },
    {
      "cell_type": "code",
      "source": [
        "a"
      ],
      "metadata": {
        "colab": {
          "base_uri": "https://localhost:8080/"
        },
        "id": "LiLLTziHb1qB",
        "outputId": "4bb6ce43-7dbb-45b0-df75-f3aadba7841f"
      },
      "execution_count": 3,
      "outputs": [
        {
          "output_type": "execute_result",
          "data": {
            "text/plain": [
              "array([10, 20, 30])"
            ]
          },
          "metadata": {},
          "execution_count": 3
        }
      ]
    },
    {
      "cell_type": "code",
      "source": [
        "a[0]"
      ],
      "metadata": {
        "colab": {
          "base_uri": "https://localhost:8080/"
        },
        "id": "ROyH5lprb2G_",
        "outputId": "48740e5b-e588-4600-98c6-5546a20b6672"
      },
      "execution_count": 4,
      "outputs": [
        {
          "output_type": "execute_result",
          "data": {
            "text/plain": [
              "np.int64(10)"
            ]
          },
          "metadata": {},
          "execution_count": 4
        }
      ]
    },
    {
      "cell_type": "code",
      "source": [
        "a[-1]"
      ],
      "metadata": {
        "colab": {
          "base_uri": "https://localhost:8080/"
        },
        "id": "JuDf_AJzb41S",
        "outputId": "2be053d1-1ab0-49ed-b508-e10febebfcec"
      },
      "execution_count": 5,
      "outputs": [
        {
          "output_type": "execute_result",
          "data": {
            "text/plain": [
              "np.int64(30)"
            ]
          },
          "metadata": {},
          "execution_count": 5
        }
      ]
    },
    {
      "cell_type": "code",
      "source": [
        "a[0]=11"
      ],
      "metadata": {
        "id": "nx4UDAEMb7T5"
      },
      "execution_count": 6,
      "outputs": []
    },
    {
      "cell_type": "code",
      "source": [
        "a"
      ],
      "metadata": {
        "colab": {
          "base_uri": "https://localhost:8080/"
        },
        "id": "r0LYzlsXb-PW",
        "outputId": "7dc98693-5131-4042-8cfd-a8965d3224cf"
      },
      "execution_count": 7,
      "outputs": [
        {
          "output_type": "execute_result",
          "data": {
            "text/plain": [
              "array([11, 20, 30])"
            ]
          },
          "metadata": {},
          "execution_count": 7
        }
      ]
    },
    {
      "cell_type": "code",
      "source": [
        "a[:2]"
      ],
      "metadata": {
        "colab": {
          "base_uri": "https://localhost:8080/"
        },
        "id": "3mp7Zhecb-wi",
        "outputId": "d7015f1d-ad69-409c-eed9-d9dc9a362ae6"
      },
      "execution_count": 9,
      "outputs": [
        {
          "output_type": "execute_result",
          "data": {
            "text/plain": [
              "array([11, 20])"
            ]
          },
          "metadata": {},
          "execution_count": 9
        }
      ]
    },
    {
      "cell_type": "code",
      "source": [
        "a[1:]"
      ],
      "metadata": {
        "colab": {
          "base_uri": "https://localhost:8080/"
        },
        "id": "EsAxx20UcDH8",
        "outputId": "b64c16ae-d8f9-4597-b53e-17fe939f6d85"
      },
      "execution_count": 11,
      "outputs": [
        {
          "output_type": "execute_result",
          "data": {
            "text/plain": [
              "array([20, 30])"
            ]
          },
          "metadata": {},
          "execution_count": 11
        }
      ]
    },
    {
      "cell_type": "code",
      "source": [
        "x = np.array([[1,2,3,4], [5,6,7,8], [9,10,11,12]])\n",
        "x"
      ],
      "metadata": {
        "colab": {
          "base_uri": "https://localhost:8080/"
        },
        "id": "C68lLaj9cGt8",
        "outputId": "bb28c54a-bf2f-4ea7-f9be-f41f7843dc5b"
      },
      "execution_count": 12,
      "outputs": [
        {
          "output_type": "execute_result",
          "data": {
            "text/plain": [
              "array([[ 1,  2,  3,  4],\n",
              "       [ 5,  6,  7,  8],\n",
              "       [ 9, 10, 11, 12]])"
            ]
          },
          "metadata": {},
          "execution_count": 12
        }
      ]
    },
    {
      "cell_type": "code",
      "source": [
        "x.ndim"
      ],
      "metadata": {
        "colab": {
          "base_uri": "https://localhost:8080/"
        },
        "id": "e7UGDSo5dLUP",
        "outputId": "cbd952c2-fe69-4dcb-d926-2570d8476ff7"
      },
      "execution_count": 13,
      "outputs": [
        {
          "output_type": "execute_result",
          "data": {
            "text/plain": [
              "2"
            ]
          },
          "metadata": {},
          "execution_count": 13
        }
      ]
    },
    {
      "cell_type": "code",
      "source": [
        "a.dtype"
      ],
      "metadata": {
        "colab": {
          "base_uri": "https://localhost:8080/"
        },
        "id": "3ksCML78dSsW",
        "outputId": "20031e39-7539-45e3-b2af-de916fa63b4c"
      },
      "execution_count": 14,
      "outputs": [
        {
          "output_type": "execute_result",
          "data": {
            "text/plain": [
              "dtype('int64')"
            ]
          },
          "metadata": {},
          "execution_count": 14
        }
      ]
    },
    {
      "cell_type": "code",
      "source": [
        "np.zeros(3)"
      ],
      "metadata": {
        "colab": {
          "base_uri": "https://localhost:8080/"
        },
        "id": "dDqomq2Se96O",
        "outputId": "89eb3523-981f-4fe2-d8da-cc346e916a73"
      },
      "execution_count": 22,
      "outputs": [
        {
          "output_type": "execute_result",
          "data": {
            "text/plain": [
              "array([0., 0., 0.])"
            ]
          },
          "metadata": {},
          "execution_count": 22
        }
      ]
    },
    {
      "cell_type": "code",
      "source": [
        "np.zeros((2,3))"
      ],
      "metadata": {
        "colab": {
          "base_uri": "https://localhost:8080/"
        },
        "id": "iS4VT4T6el7c",
        "outputId": "d51e0447-1e0c-4228-d8ba-20dbc2258320"
      },
      "execution_count": 18,
      "outputs": [
        {
          "output_type": "execute_result",
          "data": {
            "text/plain": [
              "array([[0., 0., 0.],\n",
              "       [0., 0., 0.]])"
            ]
          },
          "metadata": {},
          "execution_count": 18
        }
      ]
    },
    {
      "cell_type": "code",
      "source": [
        "np.zeros((2,3), dtype=int)"
      ],
      "metadata": {
        "colab": {
          "base_uri": "https://localhost:8080/"
        },
        "id": "pg7A-BXGejJb",
        "outputId": "70819b1e-732b-43de-f44a-0f9546df413f"
      },
      "execution_count": 19,
      "outputs": [
        {
          "output_type": "execute_result",
          "data": {
            "text/plain": [
              "array([[0, 0, 0],\n",
              "       [0, 0, 0]])"
            ]
          },
          "metadata": {},
          "execution_count": 19
        }
      ]
    },
    {
      "cell_type": "code",
      "source": [
        "np.zeros((2,4,5), dtype=int)"
      ],
      "metadata": {
        "colab": {
          "base_uri": "https://localhost:8080/"
        },
        "id": "xJBflv9Res-K",
        "outputId": "f3e89f23-0fc4-40f9-a73a-eeb144071ef6"
      },
      "execution_count": 20,
      "outputs": [
        {
          "output_type": "execute_result",
          "data": {
            "text/plain": [
              "array([[[0, 0, 0, 0, 0],\n",
              "        [0, 0, 0, 0, 0],\n",
              "        [0, 0, 0, 0, 0],\n",
              "        [0, 0, 0, 0, 0]],\n",
              "\n",
              "       [[0, 0, 0, 0, 0],\n",
              "        [0, 0, 0, 0, 0],\n",
              "        [0, 0, 0, 0, 0],\n",
              "        [0, 0, 0, 0, 0]]])"
            ]
          },
          "metadata": {},
          "execution_count": 20
        }
      ]
    },
    {
      "cell_type": "code",
      "source": [
        "np.ones(4)"
      ],
      "metadata": {
        "colab": {
          "base_uri": "https://localhost:8080/"
        },
        "id": "yg-gW3YYeyHg",
        "outputId": "6508f0b8-bba8-4337-b319-3b45c2ae47bc"
      },
      "execution_count": 21,
      "outputs": [
        {
          "output_type": "execute_result",
          "data": {
            "text/plain": [
              "array([1., 1., 1., 1.])"
            ]
          },
          "metadata": {},
          "execution_count": 21
        }
      ]
    },
    {
      "cell_type": "code",
      "source": [
        "np.ones((2,6), dtype=int)"
      ],
      "metadata": {
        "colab": {
          "base_uri": "https://localhost:8080/"
        },
        "id": "RtvN2MpMe8NV",
        "outputId": "007c2e99-6734-4d15-93c5-32efe616a627"
      },
      "execution_count": 23,
      "outputs": [
        {
          "output_type": "execute_result",
          "data": {
            "text/plain": [
              "array([[1, 1, 1, 1, 1, 1],\n",
              "       [1, 1, 1, 1, 1, 1]])"
            ]
          },
          "metadata": {},
          "execution_count": 23
        }
      ]
    },
    {
      "cell_type": "code",
      "source": [
        "np.ones((3,4,2), dtype=int)"
      ],
      "metadata": {
        "colab": {
          "base_uri": "https://localhost:8080/"
        },
        "id": "HrxFhCIdfFWG",
        "outputId": "a21a08df-c117-4795-d984-581bfbc532d1"
      },
      "execution_count": 24,
      "outputs": [
        {
          "output_type": "execute_result",
          "data": {
            "text/plain": [
              "array([[[1, 1],\n",
              "        [1, 1],\n",
              "        [1, 1],\n",
              "        [1, 1]],\n",
              "\n",
              "       [[1, 1],\n",
              "        [1, 1],\n",
              "        [1, 1],\n",
              "        [1, 1]],\n",
              "\n",
              "       [[1, 1],\n",
              "        [1, 1],\n",
              "        [1, 1],\n",
              "        [1, 1]]])"
            ]
          },
          "metadata": {},
          "execution_count": 24
        }
      ]
    },
    {
      "cell_type": "code",
      "source": [
        "np.empty(5)"
      ],
      "metadata": {
        "colab": {
          "base_uri": "https://localhost:8080/"
        },
        "id": "oN2wXaTtfbjc",
        "outputId": "57468b1b-eb2a-4110-c62d-04f409c7db4d"
      },
      "execution_count": 25,
      "outputs": [
        {
          "output_type": "execute_result",
          "data": {
            "text/plain": [
              "array([0.  , 0.25, 0.5 , 0.75, 1.  ])"
            ]
          },
          "metadata": {},
          "execution_count": 25
        }
      ]
    },
    {
      "cell_type": "code",
      "source": [
        "np.empty((3,4))"
      ],
      "metadata": {
        "colab": {
          "base_uri": "https://localhost:8080/"
        },
        "id": "XbPYKKU2fkNh",
        "outputId": "a993544a-b32a-44e8-bd12-5eabf674da71"
      },
      "execution_count": 27,
      "outputs": [
        {
          "output_type": "execute_result",
          "data": {
            "text/plain": [
              "array([[8.4826831e-316, 0.0000000e+000, 0.0000000e+000, 0.0000000e+000],\n",
              "       [0.0000000e+000, 0.0000000e+000, 0.0000000e+000, 0.0000000e+000],\n",
              "       [0.0000000e+000, 0.0000000e+000, 0.0000000e+000, 0.0000000e+000]])"
            ]
          },
          "metadata": {},
          "execution_count": 27
        }
      ]
    },
    {
      "cell_type": "code",
      "source": [
        "np.arange(2,10)"
      ],
      "metadata": {
        "colab": {
          "base_uri": "https://localhost:8080/"
        },
        "id": "fSZJItSHfmxj",
        "outputId": "dd04eb3b-b258-492e-99b5-5c49a6db5560"
      },
      "execution_count": 28,
      "outputs": [
        {
          "output_type": "execute_result",
          "data": {
            "text/plain": [
              "array([2, 3, 4, 5, 6, 7, 8, 9])"
            ]
          },
          "metadata": {},
          "execution_count": 28
        }
      ]
    },
    {
      "cell_type": "code",
      "source": [
        "np.arange(2,10,2)"
      ],
      "metadata": {
        "colab": {
          "base_uri": "https://localhost:8080/"
        },
        "id": "yaJNjufefwZJ",
        "outputId": "2e4adf71-9c01-4e5a-f689-bb70bca1abf8"
      },
      "execution_count": 29,
      "outputs": [
        {
          "output_type": "execute_result",
          "data": {
            "text/plain": [
              "array([2, 4, 6, 8])"
            ]
          },
          "metadata": {},
          "execution_count": 29
        }
      ]
    },
    {
      "cell_type": "code",
      "source": [
        "np.linspace(0,10,5)"
      ],
      "metadata": {
        "colab": {
          "base_uri": "https://localhost:8080/"
        },
        "id": "nCaBCGfAfyNI",
        "outputId": "35c5af87-c811-47de-dd3a-ea8a1746c79c"
      },
      "execution_count": 33,
      "outputs": [
        {
          "output_type": "execute_result",
          "data": {
            "text/plain": [
              "array([ 0. ,  2.5,  5. ,  7.5, 10. ])"
            ]
          },
          "metadata": {},
          "execution_count": 33
        }
      ]
    },
    {
      "cell_type": "code",
      "source": [
        "np.linspace(0,10,7)"
      ],
      "metadata": {
        "colab": {
          "base_uri": "https://localhost:8080/"
        },
        "id": "FXpii25nf7XA",
        "outputId": "65f7076e-07ab-4f0b-c23c-27c938291d1d"
      },
      "execution_count": 34,
      "outputs": [
        {
          "output_type": "execute_result",
          "data": {
            "text/plain": [
              "array([ 0.        ,  1.66666667,  3.33333333,  5.        ,  6.66666667,\n",
              "        8.33333333, 10.        ])"
            ]
          },
          "metadata": {},
          "execution_count": 34
        }
      ]
    },
    {
      "cell_type": "code",
      "source": [
        "np.linspace(3,61,9, dtype=int)"
      ],
      "metadata": {
        "colab": {
          "base_uri": "https://localhost:8080/"
        },
        "id": "qhofgmACgS7Q",
        "outputId": "0d7cff8e-b323-468b-a5bc-b8a272f528f6"
      },
      "execution_count": 35,
      "outputs": [
        {
          "output_type": "execute_result",
          "data": {
            "text/plain": [
              "array([ 3, 10, 17, 24, 32, 39, 46, 53, 61])"
            ]
          },
          "metadata": {},
          "execution_count": 35
        }
      ]
    },
    {
      "cell_type": "code",
      "source": [
        "arr = np.array([20,30,10,60,40])"
      ],
      "metadata": {
        "id": "KpdkPA6AhDng"
      },
      "execution_count": 36,
      "outputs": []
    },
    {
      "cell_type": "code",
      "source": [
        "np.sort(arr)"
      ],
      "metadata": {
        "colab": {
          "base_uri": "https://localhost:8080/"
        },
        "id": "mcPIAAmBhdnt",
        "outputId": "732bbece-c16d-4599-d8f3-cb0536d7617d"
      },
      "execution_count": 38,
      "outputs": [
        {
          "output_type": "execute_result",
          "data": {
            "text/plain": [
              "array([10, 20, 30, 40, 60])"
            ]
          },
          "metadata": {},
          "execution_count": 38
        }
      ]
    },
    {
      "cell_type": "code",
      "source": [
        "np.argsort(arr)"
      ],
      "metadata": {
        "colab": {
          "base_uri": "https://localhost:8080/"
        },
        "id": "ROTZZOCQheuZ",
        "outputId": "67af73a9-5f29-481d-a356-96f9c90f7287"
      },
      "execution_count": 39,
      "outputs": [
        {
          "output_type": "execute_result",
          "data": {
            "text/plain": [
              "array([2, 0, 1, 4, 3])"
            ]
          },
          "metadata": {},
          "execution_count": 39
        }
      ]
    },
    {
      "cell_type": "code",
      "source": [
        "x = np.array([34,4,45,32,40,65,54,39,44,41,89,50,2,88,82])\n",
        "y = np.array([10,20,30])"
      ],
      "metadata": {
        "id": "hnpqTINqiFOX"
      },
      "execution_count": 55,
      "outputs": []
    },
    {
      "cell_type": "code",
      "source": [
        "np.concatenate((x,y))"
      ],
      "metadata": {
        "colab": {
          "base_uri": "https://localhost:8080/"
        },
        "id": "5mipZhx0iTPh",
        "outputId": "24eecb33-34dc-4c37-c543-0f4db9a57b1c"
      },
      "execution_count": 56,
      "outputs": [
        {
          "output_type": "execute_result",
          "data": {
            "text/plain": [
              "array([34,  4, 45, 32, 40, 65, 54, 39, 44, 41, 89, 50,  2, 88, 82, 10, 20,\n",
              "       30])"
            ]
          },
          "metadata": {},
          "execution_count": 56
        }
      ]
    },
    {
      "cell_type": "code",
      "source": [
        "x.reshape(3,5)"
      ],
      "metadata": {
        "colab": {
          "base_uri": "https://localhost:8080/"
        },
        "id": "ABPWSMrxi4c9",
        "outputId": "f0b3ab86-8513-4313-d446-793db078060c"
      },
      "execution_count": 57,
      "outputs": [
        {
          "output_type": "execute_result",
          "data": {
            "text/plain": [
              "array([[34,  4, 45, 32, 40],\n",
              "       [65, 54, 39, 44, 41],\n",
              "       [89, 50,  2, 88, 82]])"
            ]
          },
          "metadata": {},
          "execution_count": 57
        }
      ]
    },
    {
      "cell_type": "code",
      "source": [
        "x[1:]"
      ],
      "metadata": {
        "colab": {
          "base_uri": "https://localhost:8080/"
        },
        "id": "A1oKyEfVl5aU",
        "outputId": "59e2ee13-d4a7-4421-eb7b-a7e704413e23"
      },
      "execution_count": 67,
      "outputs": [
        {
          "output_type": "execute_result",
          "data": {
            "text/plain": [
              "array([ 4, 45, 32, 40, 65, 54, 39, 44, 41, 89, 50,  2, 88, 82])"
            ]
          },
          "metadata": {},
          "execution_count": 67
        }
      ]
    },
    {
      "cell_type": "code",
      "source": [
        "x<50"
      ],
      "metadata": {
        "colab": {
          "base_uri": "https://localhost:8080/"
        },
        "id": "68Cw7_ZGmojI",
        "outputId": "62038efa-6eb1-4f64-9aa1-f9328235a14a"
      },
      "execution_count": 68,
      "outputs": [
        {
          "output_type": "execute_result",
          "data": {
            "text/plain": [
              "array([ True,  True,  True,  True,  True, False, False,  True,  True,\n",
              "        True, False, False,  True, False, False])"
            ]
          },
          "metadata": {},
          "execution_count": 68
        }
      ]
    },
    {
      "cell_type": "code",
      "source": [
        "x==4"
      ],
      "metadata": {
        "colab": {
          "base_uri": "https://localhost:8080/"
        },
        "id": "4h2UtNI0muHl",
        "outputId": "18353aaf-80fc-4fc8-d4b8-99770846b9d5"
      },
      "execution_count": 69,
      "outputs": [
        {
          "output_type": "execute_result",
          "data": {
            "text/plain": [
              "array([False,  True, False, False, False, False, False, False, False,\n",
              "       False, False, False, False, False, False])"
            ]
          },
          "metadata": {},
          "execution_count": 69
        }
      ]
    },
    {
      "cell_type": "code",
      "source": [
        "x[x<10]"
      ],
      "metadata": {
        "colab": {
          "base_uri": "https://localhost:8080/"
        },
        "id": "YtHoocXLmxBU",
        "outputId": "9405d23f-6da9-4e60-acb4-58bcc5fc72e1"
      },
      "execution_count": 70,
      "outputs": [
        {
          "output_type": "execute_result",
          "data": {
            "text/plain": [
              "array([4, 2])"
            ]
          },
          "metadata": {},
          "execution_count": 70
        }
      ]
    },
    {
      "cell_type": "code",
      "source": [
        "x[(x<90) & (x>80)]"
      ],
      "metadata": {
        "colab": {
          "base_uri": "https://localhost:8080/"
        },
        "id": "7ZLBSEhMm0wA",
        "outputId": "f62a1471-808c-4034-e321-3b0bca2c4b9f"
      },
      "execution_count": 71,
      "outputs": [
        {
          "output_type": "execute_result",
          "data": {
            "text/plain": [
              "array([89, 88, 82])"
            ]
          },
          "metadata": {},
          "execution_count": 71
        }
      ]
    },
    {
      "cell_type": "code",
      "source": [
        "x[(x>50) | (x==4)]"
      ],
      "metadata": {
        "colab": {
          "base_uri": "https://localhost:8080/"
        },
        "id": "EQWC-Lysm_pz",
        "outputId": "baafd0be-ab7e-45b9-eff1-1180e486d8aa"
      },
      "execution_count": 78,
      "outputs": [
        {
          "output_type": "execute_result",
          "data": {
            "text/plain": [
              "array([ 4, 65, 54, 89, 88, 82])"
            ]
          },
          "metadata": {},
          "execution_count": 78
        }
      ]
    },
    {
      "cell_type": "code",
      "source": [
        "a = np.array([1, 2, 3])\n",
        "b = np.array([4, 5, 6])"
      ],
      "metadata": {
        "id": "_5e2bqSgnJxL"
      },
      "execution_count": 79,
      "outputs": []
    },
    {
      "cell_type": "code",
      "source": [
        "r = np.vstack((a,b))\n",
        "r"
      ],
      "metadata": {
        "colab": {
          "base_uri": "https://localhost:8080/"
        },
        "id": "jAKsq3FgoCPU",
        "outputId": "8107632e-16bb-4207-9988-1236a263635c"
      },
      "execution_count": 80,
      "outputs": [
        {
          "output_type": "execute_result",
          "data": {
            "text/plain": [
              "array([[1, 2, 3],\n",
              "       [4, 5, 6]])"
            ]
          },
          "metadata": {},
          "execution_count": 80
        }
      ]
    },
    {
      "cell_type": "code",
      "source": [
        "r1 = np.hstack((a,b))\n",
        "r1"
      ],
      "metadata": {
        "colab": {
          "base_uri": "https://localhost:8080/"
        },
        "id": "wkAcLLrhoFe1",
        "outputId": "afa9e644-1589-4438-aedb-afdf5e73b771"
      },
      "execution_count": 81,
      "outputs": [
        {
          "output_type": "execute_result",
          "data": {
            "text/plain": [
              "array([1, 2, 3, 4, 5, 6])"
            ]
          },
          "metadata": {},
          "execution_count": 81
        }
      ]
    },
    {
      "cell_type": "code",
      "source": [
        "a = np.array([[1], [2], [3]])  # Shape (3, 1)\n",
        "b = np.array([[4], [5], [6]])  # Shape (3, 1)\n",
        "\n",
        "result = np.hstack((a, b))\n",
        "\n",
        "print(result)\n"
      ],
      "metadata": {
        "colab": {
          "base_uri": "https://localhost:8080/"
        },
        "id": "zk8fm4zAoJae",
        "outputId": "347c9e73-4c51-4efd-8703-8cee04ba4d9d"
      },
      "execution_count": 82,
      "outputs": [
        {
          "output_type": "stream",
          "name": "stdout",
          "text": [
            "[[1 4]\n",
            " [2 5]\n",
            " [3 6]]\n"
          ]
        }
      ]
    },
    {
      "cell_type": "code",
      "source": [
        "x = np.arange(1,25).reshape(2,12)\n",
        "x"
      ],
      "metadata": {
        "colab": {
          "base_uri": "https://localhost:8080/"
        },
        "id": "5TmCWCbKopOR",
        "outputId": "39a5908c-537a-4210-9ccb-3e6e9efc9752"
      },
      "execution_count": 83,
      "outputs": [
        {
          "output_type": "execute_result",
          "data": {
            "text/plain": [
              "array([[ 1,  2,  3,  4,  5,  6,  7,  8,  9, 10, 11, 12],\n",
              "       [13, 14, 15, 16, 17, 18, 19, 20, 21, 22, 23, 24]])"
            ]
          },
          "metadata": {},
          "execution_count": 83
        }
      ]
    },
    {
      "cell_type": "code",
      "source": [
        "np.hsplit(x,3)"
      ],
      "metadata": {
        "colab": {
          "base_uri": "https://localhost:8080/"
        },
        "id": "W2OPwg0IpfBW",
        "outputId": "650447c2-c7be-436e-b240-8db777442988"
      },
      "execution_count": 86,
      "outputs": [
        {
          "output_type": "execute_result",
          "data": {
            "text/plain": [
              "[array([[ 1,  2,  3,  4],\n",
              "        [13, 14, 15, 16]]),\n",
              " array([[ 5,  6,  7,  8],\n",
              "        [17, 18, 19, 20]]),\n",
              " array([[ 9, 10, 11, 12],\n",
              "        [21, 22, 23, 24]])]"
            ]
          },
          "metadata": {},
          "execution_count": 86
        }
      ]
    },
    {
      "cell_type": "code",
      "source": [
        "np.hsplit(x,2)"
      ],
      "metadata": {
        "colab": {
          "base_uri": "https://localhost:8080/"
        },
        "id": "d3dIH_9rpkm1",
        "outputId": "fa1f79b2-5518-4c4f-cc37-5fcf79428cae"
      },
      "execution_count": 87,
      "outputs": [
        {
          "output_type": "execute_result",
          "data": {
            "text/plain": [
              "[array([[ 1,  2,  3,  4,  5,  6],\n",
              "        [13, 14, 15, 16, 17, 18]]),\n",
              " array([[ 7,  8,  9, 10, 11, 12],\n",
              "        [19, 20, 21, 22, 23, 24]])]"
            ]
          },
          "metadata": {},
          "execution_count": 87
        }
      ]
    },
    {
      "cell_type": "code",
      "source": [
        "np.hsplit(x,6)"
      ],
      "metadata": {
        "colab": {
          "base_uri": "https://localhost:8080/"
        },
        "id": "10Ab0IkUp3AO",
        "outputId": "57aa3fdf-2eff-49d2-dbc8-9ea2f3c0cadf"
      },
      "execution_count": 88,
      "outputs": [
        {
          "output_type": "execute_result",
          "data": {
            "text/plain": [
              "[array([[ 1,  2],\n",
              "        [13, 14]]),\n",
              " array([[ 3,  4],\n",
              "        [15, 16]]),\n",
              " array([[ 5,  6],\n",
              "        [17, 18]]),\n",
              " array([[ 7,  8],\n",
              "        [19, 20]]),\n",
              " array([[ 9, 10],\n",
              "        [21, 22]]),\n",
              " array([[11, 12],\n",
              "        [23, 24]])]"
            ]
          },
          "metadata": {},
          "execution_count": 88
        }
      ]
    },
    {
      "cell_type": "code",
      "source": [
        "p = np.arange(1,15)\n",
        "p"
      ],
      "metadata": {
        "colab": {
          "base_uri": "https://localhost:8080/"
        },
        "id": "2piGwG2Jp4ko",
        "outputId": "58ecb454-fc3a-4ce7-d087-011dea224b5f"
      },
      "execution_count": 101,
      "outputs": [
        {
          "output_type": "execute_result",
          "data": {
            "text/plain": [
              "array([ 1,  2,  3,  4,  5,  6,  7,  8,  9, 10, 11, 12, 13, 14])"
            ]
          },
          "metadata": {},
          "execution_count": 101
        }
      ]
    },
    {
      "cell_type": "code",
      "source": [
        "b = p"
      ],
      "metadata": {
        "id": "Ni8ugR_iqzW7"
      },
      "execution_count": 102,
      "outputs": []
    },
    {
      "cell_type": "code",
      "source": [
        "p[0]=100"
      ],
      "metadata": {
        "id": "rDiglRhPq2Eh"
      },
      "execution_count": 103,
      "outputs": []
    },
    {
      "cell_type": "code",
      "source": [
        "b"
      ],
      "metadata": {
        "colab": {
          "base_uri": "https://localhost:8080/"
        },
        "id": "GiNk9OXyq4Bv",
        "outputId": "5c82f8a0-d3f6-44c8-a256-3380115a18ed"
      },
      "execution_count": 104,
      "outputs": [
        {
          "output_type": "execute_result",
          "data": {
            "text/plain": [
              "array([100,   2,   3,   4,   5,   6,   7,   8,   9,  10,  11,  12,  13,\n",
              "        14])"
            ]
          },
          "metadata": {},
          "execution_count": 104
        }
      ]
    },
    {
      "cell_type": "code",
      "source": [
        "e = p.copy()"
      ],
      "metadata": {
        "id": "Lj-zwDTJq4s4"
      },
      "execution_count": 106,
      "outputs": []
    },
    {
      "cell_type": "code",
      "source": [
        "e"
      ],
      "metadata": {
        "colab": {
          "base_uri": "https://localhost:8080/"
        },
        "id": "g5zzVCvGrG6d",
        "outputId": "759e4893-29c2-40b5-f66f-a3ce3c791292"
      },
      "execution_count": 107,
      "outputs": [
        {
          "output_type": "execute_result",
          "data": {
            "text/plain": [
              "array([100,   2,   3,   4,   5,   6,   7,   8,   9,  10,  11,  12,  13,\n",
              "        14])"
            ]
          },
          "metadata": {},
          "execution_count": 107
        }
      ]
    },
    {
      "cell_type": "code",
      "source": [
        "p[1]=200\n",
        "p"
      ],
      "metadata": {
        "colab": {
          "base_uri": "https://localhost:8080/"
        },
        "id": "mAUBDoLnrVn6",
        "outputId": "7b7e77d9-fc37-4010-9192-5864000bfd60"
      },
      "execution_count": 110,
      "outputs": [
        {
          "output_type": "execute_result",
          "data": {
            "text/plain": [
              "array([100, 200,   3,   4,   5,   6,   7,   8,   9,  10,  11,  12,  13,\n",
              "        14])"
            ]
          },
          "metadata": {},
          "execution_count": 110
        }
      ]
    },
    {
      "cell_type": "code",
      "source": [
        "e"
      ],
      "metadata": {
        "colab": {
          "base_uri": "https://localhost:8080/"
        },
        "id": "UvFDpyZLrW88",
        "outputId": "cc66e69f-6d42-422c-81a9-5eb48c0aa2d6"
      },
      "execution_count": 111,
      "outputs": [
        {
          "output_type": "execute_result",
          "data": {
            "text/plain": [
              "array([100,   2,   3,   4,   5,   6,   7,   8,   9,  10,  11,  12,  13,\n",
              "        14])"
            ]
          },
          "metadata": {},
          "execution_count": 111
        }
      ]
    },
    {
      "cell_type": "code",
      "source": [
        "a = np.array([1, 2, 3])\n",
        "b = np.array([4, 5, 6])"
      ],
      "metadata": {
        "id": "mBFGcItRrXSU"
      },
      "execution_count": 115,
      "outputs": []
    },
    {
      "cell_type": "code",
      "source": [
        "a+b"
      ],
      "metadata": {
        "colab": {
          "base_uri": "https://localhost:8080/"
        },
        "id": "nWZzACy7r7Ei",
        "outputId": "fffb161e-3bb5-49ae-fda1-88177f5b2f07"
      },
      "execution_count": 116,
      "outputs": [
        {
          "output_type": "execute_result",
          "data": {
            "text/plain": [
              "array([5, 7, 9])"
            ]
          },
          "metadata": {},
          "execution_count": 116
        }
      ]
    },
    {
      "cell_type": "code",
      "source": [
        "a-b"
      ],
      "metadata": {
        "colab": {
          "base_uri": "https://localhost:8080/"
        },
        "id": "mxSzlRzgr-W_",
        "outputId": "b263d8e8-4670-43b7-ddc9-27fdcab17a22"
      },
      "execution_count": 117,
      "outputs": [
        {
          "output_type": "execute_result",
          "data": {
            "text/plain": [
              "array([-3, -3, -3])"
            ]
          },
          "metadata": {},
          "execution_count": 117
        }
      ]
    },
    {
      "cell_type": "code",
      "source": [
        "a*b"
      ],
      "metadata": {
        "colab": {
          "base_uri": "https://localhost:8080/"
        },
        "id": "G9Z2xRFfsAt8",
        "outputId": "f26160f3-5437-477c-d320-bb92fe823681"
      },
      "execution_count": 118,
      "outputs": [
        {
          "output_type": "execute_result",
          "data": {
            "text/plain": [
              "array([ 4, 10, 18])"
            ]
          },
          "metadata": {},
          "execution_count": 118
        }
      ]
    },
    {
      "cell_type": "code",
      "source": [
        "a/b"
      ],
      "metadata": {
        "colab": {
          "base_uri": "https://localhost:8080/"
        },
        "id": "y2ZRs3hNsBS0",
        "outputId": "ed2ff4ab-f8a8-433a-ddf0-5306ae09bbea"
      },
      "execution_count": 119,
      "outputs": [
        {
          "output_type": "execute_result",
          "data": {
            "text/plain": [
              "array([0.25, 0.4 , 0.5 ])"
            ]
          },
          "metadata": {},
          "execution_count": 119
        }
      ]
    },
    {
      "cell_type": "code",
      "source": [
        "a**b"
      ],
      "metadata": {
        "colab": {
          "base_uri": "https://localhost:8080/"
        },
        "id": "tGfT8JF-sEtl",
        "outputId": "116af394-7b2c-4705-fabf-6271f146bf94"
      },
      "execution_count": 121,
      "outputs": [
        {
          "output_type": "execute_result",
          "data": {
            "text/plain": [
              "array([  1,  32, 729])"
            ]
          },
          "metadata": {},
          "execution_count": 121
        }
      ]
    },
    {
      "cell_type": "code",
      "source": [
        "a.sum()"
      ],
      "metadata": {
        "colab": {
          "base_uri": "https://localhost:8080/"
        },
        "id": "BUIqXDmjsH5s",
        "outputId": "8c099392-b8ff-4b80-fe4e-3eed9e783126"
      },
      "execution_count": 122,
      "outputs": [
        {
          "output_type": "execute_result",
          "data": {
            "text/plain": [
              "np.int64(6)"
            ]
          },
          "metadata": {},
          "execution_count": 122
        }
      ]
    },
    {
      "cell_type": "code",
      "source": [
        "a.max()"
      ],
      "metadata": {
        "colab": {
          "base_uri": "https://localhost:8080/"
        },
        "id": "2w5J9C5TsNwg",
        "outputId": "5950c79c-dca4-4298-85c7-0b3994c0f086"
      },
      "execution_count": 123,
      "outputs": [
        {
          "output_type": "execute_result",
          "data": {
            "text/plain": [
              "np.int64(3)"
            ]
          },
          "metadata": {},
          "execution_count": 123
        }
      ]
    },
    {
      "cell_type": "code",
      "source": [
        "a.min()"
      ],
      "metadata": {
        "colab": {
          "base_uri": "https://localhost:8080/"
        },
        "id": "7a0d6O9WsOhP",
        "outputId": "c05bb75c-fe0d-488d-d47e-d28c10a0d392"
      },
      "execution_count": 124,
      "outputs": [
        {
          "output_type": "execute_result",
          "data": {
            "text/plain": [
              "np.int64(1)"
            ]
          },
          "metadata": {},
          "execution_count": 124
        }
      ]
    },
    {
      "cell_type": "code",
      "source": [
        "a.mean()"
      ],
      "metadata": {
        "colab": {
          "base_uri": "https://localhost:8080/"
        },
        "id": "9Ha3eoidsPuM",
        "outputId": "c8aab39a-b21b-4222-abee-2e36dc7cc17f"
      },
      "execution_count": 125,
      "outputs": [
        {
          "output_type": "execute_result",
          "data": {
            "text/plain": [
              "np.float64(2.0)"
            ]
          },
          "metadata": {},
          "execution_count": 125
        }
      ]
    },
    {
      "cell_type": "code",
      "source": [
        "a.std()"
      ],
      "metadata": {
        "colab": {
          "base_uri": "https://localhost:8080/"
        },
        "id": "iX6_d-gxsRHI",
        "outputId": "0a490f84-68ce-4e36-ef60-4c2be12ad63f"
      },
      "execution_count": 127,
      "outputs": [
        {
          "output_type": "execute_result",
          "data": {
            "text/plain": [
              "np.float64(0.816496580927726)"
            ]
          },
          "metadata": {},
          "execution_count": 127
        }
      ]
    },
    {
      "cell_type": "code",
      "source": [
        "k = np.array([1,2,50,90])\n",
        "k.std()"
      ],
      "metadata": {
        "colab": {
          "base_uri": "https://localhost:8080/"
        },
        "id": "su-fz83XsUB5",
        "outputId": "429b3db1-cb30-4ffe-dea4-3afaf190f5db"
      },
      "execution_count": 128,
      "outputs": [
        {
          "output_type": "execute_result",
          "data": {
            "text/plain": [
              "np.float64(37.05654463114444)"
            ]
          },
          "metadata": {},
          "execution_count": 128
        }
      ]
    },
    {
      "cell_type": "code",
      "source": [
        "a = np.array([[1, 2],\n",
        "              [3, 4]])\n",
        "\n",
        "# Product of all elements\n",
        "print(np.prod(a))         # 1*2*3*4 = 24\n",
        "\n",
        "# Product along axis=0 (columns)\n",
        "print(np.prod(a, axis=0)) # [1*3, 2*4] = [3, 8]\n",
        "\n",
        "# Product along axis=1 (rows)\n",
        "print(np.prod(a, axis=1)) # [1*2, 3*4] = [2, 12]\n"
      ],
      "metadata": {
        "colab": {
          "base_uri": "https://localhost:8080/"
        },
        "id": "D29-UmU6sZMN",
        "outputId": "ad027fdd-9eca-45a1-d941-45f369fc89c5"
      },
      "execution_count": 131,
      "outputs": [
        {
          "output_type": "stream",
          "name": "stdout",
          "text": [
            "24\n",
            "[3 8]\n",
            "[ 2 12]\n"
          ]
        }
      ]
    },
    {
      "cell_type": "code",
      "source": [
        "np.random.rand(5)"
      ],
      "metadata": {
        "colab": {
          "base_uri": "https://localhost:8080/"
        },
        "id": "UuJlzQuvsevu",
        "outputId": "c5f631ef-8e6d-4ec7-93c0-d6b0aa5bb02c"
      },
      "execution_count": 132,
      "outputs": [
        {
          "output_type": "execute_result",
          "data": {
            "text/plain": [
              "array([0.0199797 , 0.15118273, 0.91940502, 0.16626449, 0.10610635])"
            ]
          },
          "metadata": {},
          "execution_count": 132
        }
      ]
    },
    {
      "cell_type": "code",
      "source": [
        "np.random.randint(10,20,5)"
      ],
      "metadata": {
        "colab": {
          "base_uri": "https://localhost:8080/"
        },
        "id": "UTvizMwLtbkM",
        "outputId": "fd197dd0-df42-4ad7-ac29-7b4dca004a37"
      },
      "execution_count": 133,
      "outputs": [
        {
          "output_type": "execute_result",
          "data": {
            "text/plain": [
              "array([17, 12, 13, 15, 19])"
            ]
          },
          "metadata": {},
          "execution_count": 133
        }
      ]
    },
    {
      "cell_type": "code",
      "source": [
        "d = np.arange(1,13).reshape(3,4)\n",
        "d"
      ],
      "metadata": {
        "colab": {
          "base_uri": "https://localhost:8080/"
        },
        "id": "xtWoZ-5ltfuH",
        "outputId": "f0a73a61-57fd-4b5b-ac32-eab45c4b8413"
      },
      "execution_count": 136,
      "outputs": [
        {
          "output_type": "execute_result",
          "data": {
            "text/plain": [
              "array([[ 1,  2,  3,  4],\n",
              "       [ 5,  6,  7,  8],\n",
              "       [ 9, 10, 11, 12]])"
            ]
          },
          "metadata": {},
          "execution_count": 136
        }
      ]
    },
    {
      "cell_type": "code",
      "source": [
        "d.transpose()"
      ],
      "metadata": {
        "colab": {
          "base_uri": "https://localhost:8080/"
        },
        "id": "qTRKiUQmt1IJ",
        "outputId": "ae61df56-7363-4c9a-d039-65aac0a0de34"
      },
      "execution_count": 137,
      "outputs": [
        {
          "output_type": "execute_result",
          "data": {
            "text/plain": [
              "array([[ 1,  5,  9],\n",
              "       [ 2,  6, 10],\n",
              "       [ 3,  7, 11],\n",
              "       [ 4,  8, 12]])"
            ]
          },
          "metadata": {},
          "execution_count": 137
        }
      ]
    },
    {
      "cell_type": "code",
      "source": [
        "re = np.flip(d, axis=0)\n",
        "re"
      ],
      "metadata": {
        "colab": {
          "base_uri": "https://localhost:8080/"
        },
        "id": "REknj6EiuGIF",
        "outputId": "49556b05-71d2-4682-f72a-b0deb3fc196d"
      },
      "execution_count": 140,
      "outputs": [
        {
          "output_type": "execute_result",
          "data": {
            "text/plain": [
              "array([[ 9, 10, 11, 12],\n",
              "       [ 5,  6,  7,  8],\n",
              "       [ 1,  2,  3,  4]])"
            ]
          },
          "metadata": {},
          "execution_count": 140
        }
      ]
    },
    {
      "cell_type": "code",
      "source": [
        "re = np.flip(d, axis=1)\n",
        "re"
      ],
      "metadata": {
        "colab": {
          "base_uri": "https://localhost:8080/"
        },
        "id": "0XtJA5PuuZUQ",
        "outputId": "be6e61a7-253a-4248-ff75-f115dd3489a5"
      },
      "execution_count": 141,
      "outputs": [
        {
          "output_type": "execute_result",
          "data": {
            "text/plain": [
              "array([[ 4,  3,  2,  1],\n",
              "       [ 8,  7,  6,  5],\n",
              "       [12, 11, 10,  9]])"
            ]
          },
          "metadata": {},
          "execution_count": 141
        }
      ]
    },
    {
      "cell_type": "code",
      "source": [
        "d.flatten()"
      ],
      "metadata": {
        "colab": {
          "base_uri": "https://localhost:8080/"
        },
        "id": "vnCv4_gdujaQ",
        "outputId": "0cba6292-fefa-4515-da41-a1c343bcb665"
      },
      "execution_count": 142,
      "outputs": [
        {
          "output_type": "execute_result",
          "data": {
            "text/plain": [
              "array([ 1,  2,  3,  4,  5,  6,  7,  8,  9, 10, 11, 12])"
            ]
          },
          "metadata": {},
          "execution_count": 142
        }
      ]
    },
    {
      "cell_type": "code",
      "source": [
        "d"
      ],
      "metadata": {
        "colab": {
          "base_uri": "https://localhost:8080/"
        },
        "id": "woSSJlnfvF4a",
        "outputId": "2fdd101b-79c4-4d9d-9e73-9e4b8688bed9"
      },
      "execution_count": 145,
      "outputs": [
        {
          "output_type": "execute_result",
          "data": {
            "text/plain": [
              "array([[ 1,  2,  3,  4],\n",
              "       [ 5,  6,  7,  8],\n",
              "       [ 9, 10, 11, 12]])"
            ]
          },
          "metadata": {},
          "execution_count": 145
        }
      ]
    },
    {
      "cell_type": "code",
      "source": [
        "re.ravel()"
      ],
      "metadata": {
        "colab": {
          "base_uri": "https://localhost:8080/"
        },
        "id": "dw8w7gxru-5U",
        "outputId": "ca919520-85e9-407e-e972-2792601d5d5e"
      },
      "execution_count": 143,
      "outputs": [
        {
          "output_type": "execute_result",
          "data": {
            "text/plain": [
              "array([ 4,  3,  2,  1,  8,  7,  6,  5, 12, 11, 10,  9])"
            ]
          },
          "metadata": {},
          "execution_count": 143
        }
      ]
    },
    {
      "cell_type": "code",
      "source": [
        "re"
      ],
      "metadata": {
        "colab": {
          "base_uri": "https://localhost:8080/"
        },
        "id": "cRzFYI7NvBNX",
        "outputId": "ae37cfbc-b461-480a-a7fe-0739911e393a"
      },
      "execution_count": 146,
      "outputs": [
        {
          "output_type": "execute_result",
          "data": {
            "text/plain": [
              "array([[ 4,  3,  2,  1],\n",
              "       [ 8,  7,  6,  5],\n",
              "       [12, 11, 10,  9]])"
            ]
          },
          "metadata": {},
          "execution_count": 146
        }
      ]
    },
    {
      "cell_type": "code",
      "source": [
        "help(max)"
      ],
      "metadata": {
        "colab": {
          "base_uri": "https://localhost:8080/"
        },
        "id": "r-OJgnNsvD0t",
        "outputId": "8226e759-cf53-4b61-8243-d14c1a96ca49"
      },
      "execution_count": 147,
      "outputs": [
        {
          "output_type": "stream",
          "name": "stdout",
          "text": [
            "Help on built-in function max in module builtins:\n",
            "\n",
            "max(...)\n",
            "    max(iterable, *[, default=obj, key=func]) -> value\n",
            "    max(arg1, arg2, *args, *[, key=func]) -> value\n",
            "    \n",
            "    With a single iterable argument, return its biggest item. The\n",
            "    default keyword-only argument specifies an object to return if\n",
            "    the provided iterable is empty.\n",
            "    With two or more arguments, return the largest argument.\n",
            "\n"
          ]
        }
      ]
    },
    {
      "cell_type": "code",
      "source": [
        "help(min)"
      ],
      "metadata": {
        "colab": {
          "base_uri": "https://localhost:8080/"
        },
        "id": "99o-UK7IvMN-",
        "outputId": "b2ddc277-e7ae-4e14-e406-154e227c32c8"
      },
      "execution_count": 150,
      "outputs": [
        {
          "output_type": "stream",
          "name": "stdout",
          "text": [
            "Help on built-in function min in module builtins:\n",
            "\n",
            "min(...)\n",
            "    min(iterable, *[, default=obj, key=func]) -> value\n",
            "    min(arg1, arg2, *args, *[, key=func]) -> value\n",
            "    \n",
            "    With a single iterable argument, return its smallest item. The\n",
            "    default keyword-only argument specifies an object to return if\n",
            "    the provided iterable is empty.\n",
            "    With two or more arguments, return the smallest argument.\n",
            "\n"
          ]
        }
      ]
    },
    {
      "cell_type": "code",
      "source": [
        "help(np.sort)"
      ],
      "metadata": {
        "colab": {
          "base_uri": "https://localhost:8080/"
        },
        "id": "Qwf2KQxCvODu",
        "outputId": "93e7cbfc-9d7f-440e-ce72-057f78433a5c"
      },
      "execution_count": 151,
      "outputs": [
        {
          "output_type": "stream",
          "name": "stdout",
          "text": [
            "Help on _ArrayFunctionDispatcher in module numpy:\n",
            "\n",
            "sort(a, axis=-1, kind=None, order=None, *, stable=None)\n",
            "    Return a sorted copy of an array.\n",
            "    \n",
            "    Parameters\n",
            "    ----------\n",
            "    a : array_like\n",
            "        Array to be sorted.\n",
            "    axis : int or None, optional\n",
            "        Axis along which to sort. If None, the array is flattened before\n",
            "        sorting. The default is -1, which sorts along the last axis.\n",
            "    kind : {'quicksort', 'mergesort', 'heapsort', 'stable'}, optional\n",
            "        Sorting algorithm. The default is 'quicksort'. Note that both 'stable'\n",
            "        and 'mergesort' use timsort or radix sort under the covers and,\n",
            "        in general, the actual implementation will vary with data type.\n",
            "        The 'mergesort' option is retained for backwards compatibility.\n",
            "    \n",
            "        .. versionchanged:: 1.15.0.\n",
            "           The 'stable' option was added.\n",
            "    \n",
            "    order : str or list of str, optional\n",
            "        When `a` is an array with fields defined, this argument specifies\n",
            "        which fields to compare first, second, etc.  A single field can\n",
            "        be specified as a string, and not all fields need be specified,\n",
            "        but unspecified fields will still be used, in the order in which\n",
            "        they come up in the dtype, to break ties.\n",
            "    stable : bool, optional\n",
            "        Sort stability. If ``True``, the returned array will maintain\n",
            "        the relative order of ``a`` values which compare as equal.\n",
            "        If ``False`` or ``None``, this is not guaranteed. Internally,\n",
            "        this option selects ``kind='stable'``. Default: ``None``.\n",
            "    \n",
            "        .. versionadded:: 2.0.0\n",
            "    \n",
            "    Returns\n",
            "    -------\n",
            "    sorted_array : ndarray\n",
            "        Array of the same type and shape as `a`.\n",
            "    \n",
            "    See Also\n",
            "    --------\n",
            "    ndarray.sort : Method to sort an array in-place.\n",
            "    argsort : Indirect sort.\n",
            "    lexsort : Indirect stable sort on multiple keys.\n",
            "    searchsorted : Find elements in a sorted array.\n",
            "    partition : Partial sort.\n",
            "    \n",
            "    Notes\n",
            "    -----\n",
            "    The various sorting algorithms are characterized by their average speed,\n",
            "    worst case performance, work space size, and whether they are stable. A\n",
            "    stable sort keeps items with the same key in the same relative\n",
            "    order. The four algorithms implemented in NumPy have the following\n",
            "    properties:\n",
            "    \n",
            "    =========== ======= ============= ============ ========\n",
            "       kind      speed   worst case    work space   stable\n",
            "    =========== ======= ============= ============ ========\n",
            "    'quicksort'    1     O(n^2)            0          no\n",
            "    'heapsort'     3     O(n*log(n))       0          no\n",
            "    'mergesort'    2     O(n*log(n))      ~n/2        yes\n",
            "    'timsort'      2     O(n*log(n))      ~n/2        yes\n",
            "    =========== ======= ============= ============ ========\n",
            "    \n",
            "    .. note:: The datatype determines which of 'mergesort' or 'timsort'\n",
            "       is actually used, even if 'mergesort' is specified. User selection\n",
            "       at a finer scale is not currently available.\n",
            "    \n",
            "    For performance, ``sort`` makes a temporary copy if needed to make the data\n",
            "    `contiguous <https://numpy.org/doc/stable/glossary.html#term-contiguous>`_\n",
            "    in memory along the sort axis. For even better performance and reduced\n",
            "    memory consumption, ensure that the array is already contiguous along the\n",
            "    sort axis.\n",
            "    \n",
            "    The sort order for complex numbers is lexicographic. If both the real\n",
            "    and imaginary parts are non-nan then the order is determined by the\n",
            "    real parts except when they are equal, in which case the order is\n",
            "    determined by the imaginary parts.\n",
            "    \n",
            "    Previous to numpy 1.4.0 sorting real and complex arrays containing nan\n",
            "    values led to undefined behaviour. In numpy versions >= 1.4.0 nan\n",
            "    values are sorted to the end. The extended sort order is:\n",
            "    \n",
            "      * Real: [R, nan]\n",
            "      * Complex: [R + Rj, R + nanj, nan + Rj, nan + nanj]\n",
            "    \n",
            "    where R is a non-nan real value. Complex values with the same nan\n",
            "    placements are sorted according to the non-nan part if it exists.\n",
            "    Non-nan values are sorted as before.\n",
            "    \n",
            "    .. versionadded:: 1.12.0\n",
            "    \n",
            "    quicksort has been changed to:\n",
            "    `introsort <https://en.wikipedia.org/wiki/Introsort>`_.\n",
            "    When sorting does not make enough progress it switches to\n",
            "    `heapsort <https://en.wikipedia.org/wiki/Heapsort>`_.\n",
            "    This implementation makes quicksort O(n*log(n)) in the worst case.\n",
            "    \n",
            "    'stable' automatically chooses the best stable sorting algorithm\n",
            "    for the data type being sorted.\n",
            "    It, along with 'mergesort' is currently mapped to\n",
            "    `timsort <https://en.wikipedia.org/wiki/Timsort>`_\n",
            "    or `radix sort <https://en.wikipedia.org/wiki/Radix_sort>`_\n",
            "    depending on the data type.\n",
            "    API forward compatibility currently limits the\n",
            "    ability to select the implementation and it is hardwired for the different\n",
            "    data types.\n",
            "    \n",
            "    .. versionadded:: 1.17.0\n",
            "    \n",
            "    Timsort is added for better performance on already or nearly\n",
            "    sorted data. On random data timsort is almost identical to\n",
            "    mergesort. It is now used for stable sort while quicksort is still the\n",
            "    default sort if none is chosen. For timsort details, refer to\n",
            "    `CPython listsort.txt\n",
            "    <https://github.com/python/cpython/blob/3.7/Objects/listsort.txt>`_\n",
            "    'mergesort' and 'stable' are mapped to radix sort for integer data types.\n",
            "    Radix sort is an O(n) sort instead of O(n log n).\n",
            "    \n",
            "    .. versionchanged:: 1.18.0\n",
            "    \n",
            "    NaT now sorts to the end of arrays for consistency with NaN.\n",
            "    \n",
            "    Examples\n",
            "    --------\n",
            "    >>> a = np.array([[1,4],[3,1]])\n",
            "    >>> np.sort(a)                # sort along the last axis\n",
            "    array([[1, 4],\n",
            "           [1, 3]])\n",
            "    >>> np.sort(a, axis=None)     # sort the flattened array\n",
            "    array([1, 1, 3, 4])\n",
            "    >>> np.sort(a, axis=0)        # sort along the first axis\n",
            "    array([[1, 1],\n",
            "           [3, 4]])\n",
            "    \n",
            "    Use the `order` keyword to specify a field to use when sorting a\n",
            "    structured array:\n",
            "    \n",
            "    >>> dtype = [('name', 'S10'), ('height', float), ('age', int)]\n",
            "    >>> values = [('Arthur', 1.8, 41), ('Lancelot', 1.9, 38),\n",
            "    ...           ('Galahad', 1.7, 38)]\n",
            "    >>> a = np.array(values, dtype=dtype)       # create a structured array\n",
            "    >>> np.sort(a, order='height')                        # doctest: +SKIP\n",
            "    array([('Galahad', 1.7, 38), ('Arthur', 1.8, 41),\n",
            "           ('Lancelot', 1.8999999999999999, 38)],\n",
            "          dtype=[('name', '|S10'), ('height', '<f8'), ('age', '<i4')])\n",
            "    \n",
            "    Sort by age, then height if ages are equal:\n",
            "    \n",
            "    >>> np.sort(a, order=['age', 'height'])               # doctest: +SKIP\n",
            "    array([('Galahad', 1.7, 38), ('Lancelot', 1.8999999999999999, 38),\n",
            "           ('Arthur', 1.8, 41)],\n",
            "          dtype=[('name', '|S10'), ('height', '<f8'), ('age', '<i4')])\n",
            "\n"
          ]
        }
      ]
    },
    {
      "cell_type": "code",
      "source": [
        "help(np.hstack)"
      ],
      "metadata": {
        "colab": {
          "base_uri": "https://localhost:8080/"
        },
        "id": "g0I_MOJFvWel",
        "outputId": "3743d8ed-c4c6-416d-ea7e-0d11e8d9c1c2"
      },
      "execution_count": 152,
      "outputs": [
        {
          "output_type": "stream",
          "name": "stdout",
          "text": [
            "Help on _ArrayFunctionDispatcher in module numpy:\n",
            "\n",
            "hstack(tup, *, dtype=None, casting='same_kind')\n",
            "    Stack arrays in sequence horizontally (column wise).\n",
            "    \n",
            "    This is equivalent to concatenation along the second axis, except for 1-D\n",
            "    arrays where it concatenates along the first axis. Rebuilds arrays divided\n",
            "    by `hsplit`.\n",
            "    \n",
            "    This function makes most sense for arrays with up to 3 dimensions. For\n",
            "    instance, for pixel-data with a height (first axis), width (second axis),\n",
            "    and r/g/b channels (third axis). The functions `concatenate`, `stack` and\n",
            "    `block` provide more general stacking and concatenation operations.\n",
            "    \n",
            "    Parameters\n",
            "    ----------\n",
            "    tup : sequence of ndarrays\n",
            "        The arrays must have the same shape along all but the second axis,\n",
            "        except 1-D arrays which can be any length.\n",
            "    \n",
            "    dtype : str or dtype\n",
            "        If provided, the destination array will have this dtype. Cannot be\n",
            "        provided together with `out`.\n",
            "    \n",
            "        .. versionadded:: 1.24\n",
            "    \n",
            "    casting : {'no', 'equiv', 'safe', 'same_kind', 'unsafe'}, optional\n",
            "        Controls what kind of data casting may occur. Defaults to 'same_kind'.\n",
            "    \n",
            "        .. versionadded:: 1.24\n",
            "    \n",
            "    Returns\n",
            "    -------\n",
            "    stacked : ndarray\n",
            "        The array formed by stacking the given arrays.\n",
            "    \n",
            "    See Also\n",
            "    --------\n",
            "    concatenate : Join a sequence of arrays along an existing axis.\n",
            "    stack : Join a sequence of arrays along a new axis.\n",
            "    block : Assemble an nd-array from nested lists of blocks.\n",
            "    vstack : Stack arrays in sequence vertically (row wise).\n",
            "    dstack : Stack arrays in sequence depth wise (along third axis).\n",
            "    column_stack : Stack 1-D arrays as columns into a 2-D array.\n",
            "    hsplit : Split an array into multiple sub-arrays \n",
            "             horizontally (column-wise).\n",
            "    \n",
            "    Examples\n",
            "    --------\n",
            "    >>> a = np.array((1,2,3))\n",
            "    >>> b = np.array((4,5,6))\n",
            "    >>> np.hstack((a,b))\n",
            "    array([1, 2, 3, 4, 5, 6])\n",
            "    >>> a = np.array([[1],[2],[3]])\n",
            "    >>> b = np.array([[4],[5],[6]])\n",
            "    >>> np.hstack((a,b))\n",
            "    array([[1, 4],\n",
            "           [2, 5],\n",
            "           [3, 6]])\n",
            "\n"
          ]
        }
      ]
    }
  ]
}